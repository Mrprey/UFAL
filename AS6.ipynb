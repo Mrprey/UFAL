{
  "nbformat": 4,
  "nbformat_minor": 0,
  "metadata": {
    "colab": {
      "name": "AS6.ipynb",
      "provenance": [],
      "authorship_tag": "ABX9TyMGWgkTsJqxxuq1JyPvFC9e",
      "include_colab_link": true
    },
    "kernelspec": {
      "name": "python3",
      "display_name": "Python 3"
    }
  },
  "cells": [
    {
      "cell_type": "markdown",
      "metadata": {
        "id": "view-in-github",
        "colab_type": "text"
      },
      "source": [
        "<a href=\"https://colab.research.google.com/github/Mrprey/UFAL/blob/master/AS6.ipynb\" target=\"_parent\"><img src=\"https://colab.research.google.com/assets/colab-badge.svg\" alt=\"Open In Colab\"/></a>"
      ]
    },
    {
      "cell_type": "markdown",
      "metadata": {
        "id": "1TAJRcj5375l"
      },
      "source": [
        "O DataSet é sobre imagens de raio-x para detecção de pneumunia\n",
        "com mais de 50000 imagens para treino e mais de 500 para o teste"
      ]
    },
    {
      "cell_type": "code",
      "metadata": {
        "id": "fM74PuPbWfeS",
        "outputId": "9f74388d-e702-4005-94b5-0843af411914",
        "colab": {
          "base_uri": "https://localhost:8080/",
          "height": 34
        }
      },
      "source": [
        "from google.colab import drive\n",
        "drive.mount('/content/drive/')"
      ],
      "execution_count": 161,
      "outputs": [
        {
          "output_type": "stream",
          "text": [
            "Drive already mounted at /content/drive/; to attempt to forcibly remount, call drive.mount(\"/content/drive/\", force_remount=True).\n"
          ],
          "name": "stdout"
        }
      ]
    },
    {
      "cell_type": "code",
      "metadata": {
        "id": "0x8fU2acYpHL"
      },
      "source": [
        "import numpy as np\n",
        "import pandas as pd\n",
        "import cv2 # opencv\n",
        "import matplotlib.pyplot as plt\n",
        "import os\n",
        "\n",
        "from sklearn.metrics import accuracy_score\n",
        "\n",
        "from keras import preprocessing\n",
        "from keras.utils.np_utils import to_categorical # convert to one-hot-encoding\n",
        "from keras.models import Sequential\n",
        "from keras.layers import Dense, Dropout, Flatten, Conv2D, MaxPool2D\n",
        "from keras.optimizers import RMSprop"
      ],
      "execution_count": 162,
      "outputs": []
    },
    {
      "cell_type": "markdown",
      "metadata": {
        "id": "zGBIhFMrY0kH"
      },
      "source": [
        "# Lendo as imagens"
      ]
    },
    {
      "cell_type": "code",
      "metadata": {
        "id": "PbIoKduG56DT",
        "outputId": "16285fb8-90f0-4a15-9b85-6eff93100595",
        "colab": {
          "base_uri": "https://localhost:8080/",
          "height": 34
        }
      },
      "source": [
        "img = cv2.imread('/content/drive/My Drive/Colab Notebooks/DataSets/chest_xray/test/NORMAL/IM-0001-0001.jpeg')\n",
        "\n",
        "imagem = cv2.resize(img, (19, 29))\n",
        "\n",
        "imagem.shape\n",
        "\n"
      ],
      "execution_count": 163,
      "outputs": [
        {
          "output_type": "execute_result",
          "data": {
            "text/plain": [
              "(29, 19, 3)"
            ]
          },
          "metadata": {
            "tags": []
          },
          "execution_count": 163
        }
      ]
    },
    {
      "cell_type": "code",
      "metadata": {
        "id": "K3Z-SSjMY6iW"
      },
      "source": [
        "input_dir = '/content/drive/My Drive/Colab Notebooks/DataSets/chest_xray/'\n",
        "\n",
        "#tipo = train ou test\n",
        "classes = {'NORMAL':0,'PNEUMONIA':1}\n",
        "def ler_dataset(tipo):\n",
        "  X = []\n",
        "  y = []\n",
        "  qtd = 5000 if tipo == 'train' else 500\n",
        "  #para cada pasta\n",
        "  for pasta in os.listdir(input_dir+tipo+'/'):\n",
        "    print(pasta)\n",
        "    #para cada imagem na pasta\n",
        "    for img_file in os.listdir(input_dir+tipo+'/'+pasta+'/')[:qtd]:\n",
        "      #leia a imagem\n",
        "      img = cv2.resize(cv2.imread(input_dir+tipo+'/'+pasta+'/'+img_file), (48, 48))\n",
        "      #transforme imagem em array de pixels e salve na lista de imagens\n",
        "      X.append(img)\n",
        "      #guarde a classificação da imagem\n",
        "      y.append(classes[pasta])\n",
        "  X = np.asarray(X)\n",
        "  y = np.asarray(y)\n",
        "  return X,y\n"
      ],
      "execution_count": 164,
      "outputs": []
    },
    {
      "cell_type": "code",
      "metadata": {
        "id": "a2Ls7xFz0NqO",
        "outputId": "01d5882a-c081-4452-a10a-06704e55890a",
        "colab": {
          "base_uri": "https://localhost:8080/",
          "height": 51
        }
      },
      "source": [
        "X_treino,y_treino = ler_dataset('train')"
      ],
      "execution_count": 165,
      "outputs": [
        {
          "output_type": "stream",
          "text": [
            "PNEUMONIA\n",
            "NORMAL\n"
          ],
          "name": "stdout"
        }
      ]
    },
    {
      "cell_type": "code",
      "metadata": {
        "id": "_MFm8gEmZAnQ",
        "outputId": "390dceee-a0e6-4317-e89f-75d667b52385",
        "colab": {
          "base_uri": "https://localhost:8080/",
          "height": 34
        }
      },
      "source": [
        "X_treino.shape"
      ],
      "execution_count": 166,
      "outputs": [
        {
          "output_type": "execute_result",
          "data": {
            "text/plain": [
              "(5216, 48, 48, 3)"
            ]
          },
          "metadata": {
            "tags": []
          },
          "execution_count": 166
        }
      ]
    },
    {
      "cell_type": "code",
      "metadata": {
        "id": "PhlsqnHRypVN",
        "outputId": "620a3405-f29b-4e63-c977-3caca3367417",
        "colab": {
          "base_uri": "https://localhost:8080/",
          "height": 34
        }
      },
      "source": [
        "y_treino.shape"
      ],
      "execution_count": 167,
      "outputs": [
        {
          "output_type": "execute_result",
          "data": {
            "text/plain": [
              "(5216,)"
            ]
          },
          "metadata": {
            "tags": []
          },
          "execution_count": 167
        }
      ]
    },
    {
      "cell_type": "code",
      "metadata": {
        "id": "uRGASmgo3Efd",
        "outputId": "b01e3d35-0bd4-4b48-a92b-91df08f4a082",
        "colab": {
          "base_uri": "https://localhost:8080/",
          "height": 51
        }
      },
      "source": [
        "X_teste,y_teste = ler_dataset('test')"
      ],
      "execution_count": 168,
      "outputs": [
        {
          "output_type": "stream",
          "text": [
            "PNEUMONIA\n",
            "NORMAL\n"
          ],
          "name": "stdout"
        }
      ]
    },
    {
      "cell_type": "code",
      "metadata": {
        "id": "yNjg0gpbJAhQ",
        "outputId": "0496cf8e-41ca-4ba7-feae-b946f24cab2a",
        "colab": {
          "base_uri": "https://localhost:8080/",
          "height": 34
        }
      },
      "source": [
        "X_teste.shape"
      ],
      "execution_count": 169,
      "outputs": [
        {
          "output_type": "execute_result",
          "data": {
            "text/plain": [
              "(624, 48, 48, 3)"
            ]
          },
          "metadata": {
            "tags": []
          },
          "execution_count": 169
        }
      ]
    },
    {
      "cell_type": "code",
      "metadata": {
        "id": "hgdH-N97y3J8"
      },
      "source": [
        "#transformando labels de numérico para categórico\n",
        "y_treino = to_categorical(y_treino, num_classes = 2)\n",
        "y_teste = to_categorical(y_teste, num_classes = 2)"
      ],
      "execution_count": 170,
      "outputs": []
    },
    {
      "cell_type": "markdown",
      "metadata": {
        "id": "x7IcwG-v3bV9"
      },
      "source": [
        "# Re-escala dos dados"
      ]
    },
    {
      "cell_type": "code",
      "metadata": {
        "id": "Sl9bUzqJ3e-i"
      },
      "source": [
        "X_treino = X_treino/255\n",
        "X_teste = X_teste/255"
      ],
      "execution_count": 171,
      "outputs": []
    },
    {
      "cell_type": "markdown",
      "metadata": {
        "id": "Uggb2PEx3ry7"
      },
      "source": [
        "# Definindo CNN"
      ]
    },
    {
      "cell_type": "code",
      "metadata": {
        "id": "L4vvW0O63rXr"
      },
      "source": [
        "model = Sequential()\n",
        "\n",
        "# 2 camadas de convolução de 32 filtros + Max pooling [2,2]\n",
        "model.add(Conv2D(filters = 32, kernel_size = (5,5),padding = 'Same', activation ='relu', input_shape = (48,48,3)))\n",
        "model.add(Conv2D(filters = 32, kernel_size = (5,5),padding = 'Same', activation ='relu'))\n",
        "model.add(Conv2D(filters = 32, kernel_size = (5,5),padding = 'Same', activation ='relu'))\n",
        "model.add(MaxPool2D(pool_size=(2,2)))\n",
        "model.add(Dropout(0.2))\n",
        "\n",
        "# 2 camadas de convolução de 64 filtros + Max pooling [2,2]\n",
        "model.add(Conv2D(filters = 64, kernel_size = (3,3),padding = 'Same', activation ='relu'))\n",
        "model.add(Conv2D(filters = 64, kernel_size = (3,3),padding = 'Same', activation ='relu'))\n",
        "model.add(Conv2D(filters = 64, kernel_size = (3,3),padding = 'Same', activation ='relu'))\n",
        "model.add(MaxPool2D(pool_size=(2,2), strides=(2,2)))\n",
        "model.add(Dropout(0.2))\n",
        "\n",
        "# 2 camadas de convolução de 128 filtros + Max pooling [2,2]\n",
        "model.add(Conv2D(filters = 128, kernel_size = (3,3),padding = 'Same', activation ='relu'))\n",
        "model.add(Conv2D(filters = 128, kernel_size = (3,3),padding = 'Same', activation ='relu'))\n",
        "model.add(Conv2D(filters = 128, kernel_size = (3,3),padding = 'Same', activation ='relu'))\n",
        "model.add(MaxPool2D(pool_size=(2,2), strides=(2,2)))\n",
        "model.add(Dropout(0.2))\n",
        "\n",
        "#  2 camadas fully conected \n",
        "model.add(Flatten())#converte os mapas de ativação finais para um veter de 1 dimensão\n",
        "model.add(Dense(256, activation = \"relu\"))\n",
        "model.add(Dropout(0.5))\n",
        "model.add(Dense(2, activation = \"softmax\"))"
      ],
      "execution_count": 172,
      "outputs": []
    },
    {
      "cell_type": "code",
      "metadata": {
        "id": "rcV9S2kU5YJX"
      },
      "source": [
        "optimizer = RMSprop(lr=0.001, rho=0.9, epsilon=1e-08, decay=0.0)"
      ],
      "execution_count": 173,
      "outputs": []
    },
    {
      "cell_type": "code",
      "metadata": {
        "id": "Mq7JanY15b80"
      },
      "source": [
        "# Compilando o modelo\n",
        "model.compile(optimizer = optimizer , loss = \"categorical_crossentropy\", metrics=[\"accuracy\"])"
      ],
      "execution_count": 174,
      "outputs": []
    },
    {
      "cell_type": "code",
      "metadata": {
        "id": "Xa9L2NlU5f5K",
        "outputId": "fdae204e-d638-4c7d-80c2-00604eac5efd",
        "colab": {
          "base_uri": "https://localhost:8080/",
          "height": 51
        }
      },
      "source": [
        "# treinamento do modelo\n",
        "\n",
        "model.fit(X_treino, y_treino,verbose = 1)"
      ],
      "execution_count": 175,
      "outputs": [
        {
          "output_type": "stream",
          "text": [
            "163/163 [==============================] - 211s 1s/step - loss: 0.6817 - accuracy: 0.7389\n"
          ],
          "name": "stdout"
        },
        {
          "output_type": "execute_result",
          "data": {
            "text/plain": [
              "<tensorflow.python.keras.callbacks.History at 0x7f0b92697518>"
            ]
          },
          "metadata": {
            "tags": []
          },
          "execution_count": 175
        }
      ]
    },
    {
      "cell_type": "code",
      "metadata": {
        "id": "p1Sl1wXOWRiC",
        "outputId": "2fb30a5e-1692-4fa3-dc8d-2bd44308948b",
        "colab": {
          "base_uri": "https://localhost:8080/",
          "height": 51
        }
      },
      "source": [
        "model.evaluate(X_teste,y_teste)"
      ],
      "execution_count": 176,
      "outputs": [
        {
          "output_type": "stream",
          "text": [
            "20/20 [==============================] - 6s 279ms/step - loss: 0.5902 - accuracy: 0.6795\n"
          ],
          "name": "stdout"
        },
        {
          "output_type": "execute_result",
          "data": {
            "text/plain": [
              "[0.5902261734008789, 0.6794871687889099]"
            ]
          },
          "metadata": {
            "tags": []
          },
          "execution_count": 176
        }
      ]
    }
  ]
}