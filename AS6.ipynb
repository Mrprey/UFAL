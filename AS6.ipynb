{
  "nbformat": 4,
  "nbformat_minor": 0,
  "metadata": {
    "colab": {
      "name": "AS6.ipynb",
      "provenance": [],
      "collapsed_sections": [],
      "authorship_tag": "ABX9TyM4uh/RShurNRkevkxk2msE",
      "include_colab_link": true
    },
    "kernelspec": {
      "name": "python3",
      "display_name": "Python 3"
    }
  },
  "cells": [
    {
      "cell_type": "markdown",
      "metadata": {
        "id": "view-in-github",
        "colab_type": "text"
      },
      "source": [
        "<a href=\"https://colab.research.google.com/github/Mrprey/UFAL/blob/master/AS6.ipynb\" target=\"_parent\"><img src=\"https://colab.research.google.com/assets/colab-badge.svg\" alt=\"Open In Colab\"/></a>"
      ]
    },
    {
      "cell_type": "markdown",
      "metadata": {
        "id": "1TAJRcj5375l"
      },
      "source": [
        "O DataSet é sobre imagens de raio-x para detecção de pneumunia\n",
        "com mais de 50000 imagens para treino e mais de 500 para o teste"
      ]
    },
    {
      "cell_type": "code",
      "metadata": {
        "id": "fM74PuPbWfeS",
        "outputId": "afa08e6b-01b9-44c0-be29-624197623779",
        "colab": {
          "base_uri": "https://localhost:8080/",
          "height": 34
        }
      },
      "source": [
        "from google.colab import drive\n",
        "drive.mount('/content/drive/')"
      ],
      "execution_count": 1,
      "outputs": [
        {
          "output_type": "stream",
          "text": [
            "Drive already mounted at /content/drive/; to attempt to forcibly remount, call drive.mount(\"/content/drive/\", force_remount=True).\n"
          ],
          "name": "stdout"
        }
      ]
    },
    {
      "cell_type": "code",
      "metadata": {
        "id": "0x8fU2acYpHL"
      },
      "source": [
        "import numpy as np\n",
        "import pandas as pd\n",
        "import cv2 # opencv\n",
        "import matplotlib.pyplot as plt\n",
        "import os\n",
        "\n",
        "from sklearn.metrics import accuracy_score\n",
        "\n",
        "from keras import preprocessing\n",
        "from keras.utils.np_utils import to_categorical # convert to one-hot-encoding\n",
        "from keras.models import Sequential\n",
        "from keras.layers import Dense, Dropout, Flatten, Conv2D, MaxPool2D\n",
        "from keras.optimizers import RMSprop"
      ],
      "execution_count": 2,
      "outputs": []
    },
    {
      "cell_type": "markdown",
      "metadata": {
        "id": "zGBIhFMrY0kH"
      },
      "source": [
        "# Lendo as imagens"
      ]
    },
    {
      "cell_type": "markdown",
      "metadata": {
        "id": "hGcaN9Jsc87p"
      },
      "source": [
        "Exemplo de imagem"
      ]
    },
    {
      "cell_type": "code",
      "metadata": {
        "id": "PbIoKduG56DT",
        "outputId": "4cc1b100-d5be-4f35-b1bf-0b0b129c420d",
        "colab": {
          "base_uri": "https://localhost:8080/",
          "height": 850
        }
      },
      "source": [
        "img = cv2.imread('/content/drive/My Drive/Colab Notebooks/DataSets/chest_xray/test/NORMAL/IM-0001-0001.jpeg')\n",
        "\n",
        "imagem = cv2.resize(img, (19, 29))\n",
        "\n",
        "imagem\n",
        "\n"
      ],
      "execution_count": 3,
      "outputs": [
        {
          "output_type": "execute_result",
          "data": {
            "text/plain": [
              "array([[[ 29,  29,  29],\n",
              "        [ 27,  27,  27],\n",
              "        [ 26,  26,  26],\n",
              "        ...,\n",
              "        [ 28,  28,  28],\n",
              "        [ 28,  28,  28],\n",
              "        [ 32,  32,  32]],\n",
              "\n",
              "       [[ 30,  30,  30],\n",
              "        [ 24,  24,  24],\n",
              "        [ 23,  23,  23],\n",
              "        ...,\n",
              "        [ 27,  27,  27],\n",
              "        [ 27,  27,  27],\n",
              "        [ 29,  29,  29]],\n",
              "\n",
              "       [[ 31,  31,  31],\n",
              "        [ 20,  20,  20],\n",
              "        [ 14,  14,  14],\n",
              "        ...,\n",
              "        [ 48,  48,  48],\n",
              "        [ 18,  18,  18],\n",
              "        [ 26,  26,  26]],\n",
              "\n",
              "       ...,\n",
              "\n",
              "       [[ 25,  25,  25],\n",
              "        [ 26,  26,  26],\n",
              "        [ 22,  22,  22],\n",
              "        ...,\n",
              "        [187, 187, 187],\n",
              "        [ 27,  27,  27],\n",
              "        [ 32,  32,  32]],\n",
              "\n",
              "       [[ 26,  26,  26],\n",
              "        [ 28,  28,  28],\n",
              "        [ 15,  15,  15],\n",
              "        ...,\n",
              "        [181, 181, 181],\n",
              "        [ 27,  27,  27],\n",
              "        [ 34,  34,  34]],\n",
              "\n",
              "       [[ 27,  27,  27],\n",
              "        [ 26,  26,  26],\n",
              "        [ 18,  18,  18],\n",
              "        ...,\n",
              "        [160, 160, 160],\n",
              "        [ 27,  27,  27],\n",
              "        [ 31,  31,  31]]], dtype=uint8)"
            ]
          },
          "metadata": {
            "tags": []
          },
          "execution_count": 3
        }
      ]
    },
    {
      "cell_type": "code",
      "metadata": {
        "id": "K3Z-SSjMY6iW"
      },
      "source": [
        "input_dir = '/content/drive/My Drive/Colab Notebooks/DataSets/chest_xray/'\n",
        "\n",
        "#tipo = train ou test\n",
        "classes = {'NORMAL':0,'PNEUMONIA':1}\n",
        "def ler_dataset(tipo):\n",
        "  X = []\n",
        "  y = []\n",
        "  qtd = 5000 if tipo == 'train' else 500\n",
        "  #para cada pasta\n",
        "  for pasta in os.listdir(input_dir+tipo+'/'):\n",
        "    print(pasta)\n",
        "    #para cada imagem na pasta\n",
        "    for img_file in os.listdir(input_dir+tipo+'/'+pasta+'/')[:qtd]:\n",
        "      #leia a imagem\n",
        "      img = cv2.resize(cv2.imread(input_dir+tipo+'/'+pasta+'/'+img_file), (96, 96))\n",
        "      #transforme imagem em array de pixels e salve na lista de imagens\n",
        "      X.append(img)\n",
        "      #guarde a classificação da imagem\n",
        "      y.append(classes[pasta])\n",
        "  X = np.asarray(X)\n",
        "  y = np.asarray(y)\n",
        "  return X,y\n"
      ],
      "execution_count": 4,
      "outputs": []
    },
    {
      "cell_type": "markdown",
      "metadata": {
        "id": "4blQbzZ8dJ6n"
      },
      "source": [
        "Lendo Dataset de treino"
      ]
    },
    {
      "cell_type": "code",
      "metadata": {
        "id": "a2Ls7xFz0NqO",
        "outputId": "eb6152de-aae8-4408-86ef-35aedc27b0ae",
        "colab": {
          "base_uri": "https://localhost:8080/",
          "height": 51
        }
      },
      "source": [
        "X_treino,y_treino = ler_dataset('train')"
      ],
      "execution_count": 5,
      "outputs": [
        {
          "output_type": "stream",
          "text": [
            "PNEUMONIA\n",
            "NORMAL\n"
          ],
          "name": "stdout"
        }
      ]
    },
    {
      "cell_type": "code",
      "metadata": {
        "id": "_MFm8gEmZAnQ",
        "outputId": "e60cbcb1-ef23-4421-a9fc-7790165e3ece",
        "colab": {
          "base_uri": "https://localhost:8080/",
          "height": 34
        }
      },
      "source": [
        "X_treino.shape"
      ],
      "execution_count": 6,
      "outputs": [
        {
          "output_type": "execute_result",
          "data": {
            "text/plain": [
              "(5216, 96, 96, 3)"
            ]
          },
          "metadata": {
            "tags": []
          },
          "execution_count": 6
        }
      ]
    },
    {
      "cell_type": "code",
      "metadata": {
        "id": "PhlsqnHRypVN",
        "outputId": "476e5ad4-5d82-435d-d3a4-0f8970e7eb67",
        "colab": {
          "base_uri": "https://localhost:8080/",
          "height": 34
        }
      },
      "source": [
        "y_treino.shape"
      ],
      "execution_count": 7,
      "outputs": [
        {
          "output_type": "execute_result",
          "data": {
            "text/plain": [
              "(5216,)"
            ]
          },
          "metadata": {
            "tags": []
          },
          "execution_count": 7
        }
      ]
    },
    {
      "cell_type": "markdown",
      "metadata": {
        "id": "WIoUWSJadRwo"
      },
      "source": [
        "Lendo dataset de test"
      ]
    },
    {
      "cell_type": "code",
      "metadata": {
        "id": "uRGASmgo3Efd",
        "outputId": "30b373ab-59d1-4acb-8a95-926036ae4ebb",
        "colab": {
          "base_uri": "https://localhost:8080/",
          "height": 51
        }
      },
      "source": [
        "X_teste,y_teste = ler_dataset('test')"
      ],
      "execution_count": 8,
      "outputs": [
        {
          "output_type": "stream",
          "text": [
            "PNEUMONIA\n",
            "NORMAL\n"
          ],
          "name": "stdout"
        }
      ]
    },
    {
      "cell_type": "code",
      "metadata": {
        "id": "yNjg0gpbJAhQ",
        "outputId": "b21147fb-a567-4f3a-c43c-d22c0d33abd2",
        "colab": {
          "base_uri": "https://localhost:8080/",
          "height": 34
        }
      },
      "source": [
        "X_teste.shape"
      ],
      "execution_count": 9,
      "outputs": [
        {
          "output_type": "execute_result",
          "data": {
            "text/plain": [
              "(624, 96, 96, 3)"
            ]
          },
          "metadata": {
            "tags": []
          },
          "execution_count": 9
        }
      ]
    },
    {
      "cell_type": "code",
      "metadata": {
        "id": "hgdH-N97y3J8"
      },
      "source": [
        "#transformando labels de numérico para categórico\n",
        "y_treino = to_categorical(y_treino, num_classes = 2)\n",
        "y_teste = to_categorical(y_teste, num_classes = 2)"
      ],
      "execution_count": 10,
      "outputs": []
    },
    {
      "cell_type": "markdown",
      "metadata": {
        "id": "x7IcwG-v3bV9"
      },
      "source": [
        "# Re-escala dos dados"
      ]
    },
    {
      "cell_type": "code",
      "metadata": {
        "id": "Sl9bUzqJ3e-i"
      },
      "source": [
        "X_treino = X_treino/255\n",
        "X_teste = X_teste/255"
      ],
      "execution_count": 11,
      "outputs": []
    },
    {
      "cell_type": "markdown",
      "metadata": {
        "id": "Uggb2PEx3ry7"
      },
      "source": [
        "# Definindo CNN"
      ]
    },
    {
      "cell_type": "code",
      "metadata": {
        "id": "L4vvW0O63rXr"
      },
      "source": [
        "model = Sequential()\n",
        "\n",
        "model.add(Conv2D(filters = 32, kernel_size = (6,6),padding = 'Same', activation ='relu', input_shape = (96,96,3)))\n",
        "model.add(Conv2D(filters = 32, kernel_size = (6,6),padding = 'Same', activation ='relu'))\n",
        "model.add(Conv2D(filters = 32, kernel_size = (6,6),padding = 'Same', activation ='relu'))\n",
        "model.add(MaxPool2D(pool_size=(2,2)))\n",
        "model.add(Dropout(0.25))\n",
        "\n",
        "\n",
        "model.add(Conv2D(filters = 64, kernel_size = (3,3),padding = 'Same', activation ='relu'))\n",
        "model.add(Conv2D(filters = 64, kernel_size = (3,3),padding = 'Same', activation ='relu'))\n",
        "model.add(Conv2D(filters = 64, kernel_size = (3,3),padding = 'Same', activation ='relu'))\n",
        "model.add(MaxPool2D(pool_size=(2,2), strides=(2,2)))\n",
        "model.add(Dropout(0.25))\n",
        "\n",
        "\n",
        "model.add(Conv2D(filters = 128, kernel_size = (3,3),padding = 'Same', activation ='relu'))\n",
        "model.add(Conv2D(filters = 128, kernel_size = (3,3),padding = 'Same', activation ='relu'))\n",
        "model.add(Conv2D(filters = 128, kernel_size = (3,3),padding = 'Same', activation ='relu'))\n",
        "model.add(MaxPool2D(pool_size=(2,2), strides=(2,2)))\n",
        "model.add(Dropout(0.25))\n",
        "\n",
        "\n",
        "model.add(Flatten())#converte os mapas de ativação finais para um veter de 1 dimensão\n",
        "model.add(Dense(256, activation = \"relu\"))\n",
        "model.add(Dropout(0.5))\n",
        "model.add(Dense(2, activation = \"softmax\"))"
      ],
      "execution_count": 27,
      "outputs": []
    },
    {
      "cell_type": "code",
      "metadata": {
        "id": "rcV9S2kU5YJX"
      },
      "source": [
        "optimizer = RMSprop(lr=0.001, rho=0.9, epsilon=1e-08, decay=0.0)"
      ],
      "execution_count": 28,
      "outputs": []
    },
    {
      "cell_type": "code",
      "metadata": {
        "id": "Mq7JanY15b80"
      },
      "source": [
        "# Compilando o modelo\n",
        "model.compile(optimizer = optimizer , loss = \"categorical_crossentropy\", metrics=[\"accuracy\"])"
      ],
      "execution_count": 29,
      "outputs": []
    },
    {
      "cell_type": "markdown",
      "metadata": {
        "id": "SOcg7tsfIeE-"
      },
      "source": [
        "# Treinando"
      ]
    },
    {
      "cell_type": "code",
      "metadata": {
        "id": "Xa9L2NlU5f5K",
        "outputId": "b04a47aa-7a4b-478f-b6a3-93f4bf943c25",
        "colab": {
          "base_uri": "https://localhost:8080/",
          "height": 51
        }
      },
      "source": [
        "# treinamento do modelo\n",
        "\n",
        "model.fit(X_treino, y_treino, epochs=1, verbose = 1)"
      ],
      "execution_count": 32,
      "outputs": [
        {
          "output_type": "stream",
          "text": [
            "163/163 [==============================] - 1015s 6s/step - loss: 6.8150 - accuracy: 0.7868\n"
          ],
          "name": "stdout"
        },
        {
          "output_type": "execute_result",
          "data": {
            "text/plain": [
              "<tensorflow.python.keras.callbacks.History at 0x7f0cabe74550>"
            ]
          },
          "metadata": {
            "tags": []
          },
          "execution_count": 32
        }
      ]
    },
    {
      "cell_type": "markdown",
      "metadata": {
        "id": "5VFCwbKMIjjd"
      },
      "source": [
        "# Avaliando modelo e resultado"
      ]
    },
    {
      "cell_type": "code",
      "metadata": {
        "id": "p1Sl1wXOWRiC",
        "outputId": "57995e82-01d5-4b0e-da2f-0ab100cd9294",
        "colab": {
          "base_uri": "https://localhost:8080/",
          "height": 51
        }
      },
      "source": [
        "model.evaluate(X_teste,y_teste)"
      ],
      "execution_count": 33,
      "outputs": [
        {
          "output_type": "stream",
          "text": [
            "20/20 [==============================] - 26s 1s/step - loss: 0.8971 - accuracy: 0.7388\n"
          ],
          "name": "stdout"
        },
        {
          "output_type": "execute_result",
          "data": {
            "text/plain": [
              "[0.8971028327941895, 0.7387820482254028]"
            ]
          },
          "metadata": {
            "tags": []
          },
          "execution_count": 33
        }
      ]
    },
    {
      "cell_type": "markdown",
      "metadata": {
        "id": "3Jj4x7Z3LdTm"
      },
      "source": [
        "resultado não foi tão bom, onde um estudo melhor sobre como funciona os parâmetros para o treinamento do modelo poderia ajudar e mas tempo para testes. Com este resultado não seria recomendado colocar este modelo em produção, já que a taxa de erro é considerada alta, principalmente em casos envolvendo risco humano."
      ]
    }
  ]
}