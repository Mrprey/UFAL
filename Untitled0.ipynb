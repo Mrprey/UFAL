{
  "nbformat": 4,
  "nbformat_minor": 0,
  "metadata": {
    "colab": {
      "name": "Untitled0.ipynb",
      "provenance": [],
      "collapsed_sections": [],
      "authorship_tag": "ABX9TyMWg9Lxs5HrvPfy7/u2Y31M",
      "include_colab_link": true
    },
    "kernelspec": {
      "name": "python3",
      "display_name": "Python 3"
    }
  },
  "cells": [
    {
      "cell_type": "markdown",
      "metadata": {
        "id": "view-in-github",
        "colab_type": "text"
      },
      "source": [
        "<a href=\"https://colab.research.google.com/github/Mrprey/UFAL/blob/master/Untitled0.ipynb\" target=\"_parent\"><img src=\"https://colab.research.google.com/assets/colab-badge.svg\" alt=\"Open In Colab\"/></a>"
      ]
    },
    {
      "cell_type": "markdown",
      "metadata": {
        "id": "K-aBQEDxBDKo",
        "colab_type": "text"
      },
      "source": [
        "**Dados de insuficiência cardíaca**"
      ]
    },
    {
      "cell_type": "markdown",
      "metadata": {
        "id": "Qyq-B3C_Bl-2",
        "colab_type": "text"
      },
      "source": [
        "Contendo dados coletados em consultas clinicas sobre caracteristicas dos pacientes que apresentam insufiência cardiaca.\n",
        "\n",
        "\n",
        "\n",
        "[Heart Failure Prediction](https://www.kaggle.com/andrewmvd/heart-failure-clinical-data)\n",
        "\n",
        "Onde os dados descrevem númericamente:\n",
        "  \n",
        "\n",
        "*   Age\n",
        "*   anemia\n",
        "*   creatinina fosfoquinase\n",
        "*   diabetes\n",
        "*   fração de ejeção\n",
        "*   pressão alta\n",
        "*   plaquetas\n",
        "*   sexo\n",
        "\n",
        "com 299 instâncias e problema de classificação binária\n",
        "\n",
        "\n"
      ]
    },
    {
      "cell_type": "code",
      "metadata": {
        "id": "TVVAE1gH5yFq",
        "colab_type": "code",
        "colab": {
          "base_uri": "https://localhost:8080/",
          "height": 34
        },
        "outputId": "f77608df-69d2-4392-da54-358c30148953"
      },
      "source": [
        "from google.colab import drive\n",
        "drive.mount('/content/drive/')"
      ],
      "execution_count": null,
      "outputs": [
        {
          "output_type": "stream",
          "text": [
            "Drive already mounted at /content/drive/; to attempt to forcibly remount, call drive.mount(\"/content/drive/\", force_remount=True).\n"
          ],
          "name": "stdout"
        }
      ]
    },
    {
      "cell_type": "markdown",
      "metadata": {
        "id": "JGGqCL5ZA5Zf",
        "colab_type": "text"
      },
      "source": [
        "Iniciando leitura dos dados"
      ]
    },
    {
      "cell_type": "code",
      "metadata": {
        "id": "6U5zlmYm_Q6k",
        "colab_type": "code",
        "colab": {
          "base_uri": "https://localhost:8080/",
          "height": 258
        },
        "outputId": "5234238a-3e19-4ef2-e4e6-e2f633bf87eb"
      },
      "source": [
        "''' Importando bibliotecas'''\n",
        "import numpy as np\n",
        "import pandas as pd\n",
        "import matplotlib.pyplot as plt\n",
        "import seaborn as sns\n",
        "\n",
        "data = pd.read_csv('/content/drive/My Drive/Colab Notebooks/DataSets/heart_failure.csv')\n",
        "\n",
        "data.head()"
      ],
      "execution_count": null,
      "outputs": [
        {
          "output_type": "stream",
          "text": [
            "/usr/local/lib/python3.6/dist-packages/statsmodels/tools/_testing.py:19: FutureWarning: pandas.util.testing is deprecated. Use the functions in the public API at pandas.testing instead.\n",
            "  import pandas.util.testing as tm\n"
          ],
          "name": "stderr"
        },
        {
          "output_type": "execute_result",
          "data": {
            "text/html": [
              "<div>\n",
              "<style scoped>\n",
              "    .dataframe tbody tr th:only-of-type {\n",
              "        vertical-align: middle;\n",
              "    }\n",
              "\n",
              "    .dataframe tbody tr th {\n",
              "        vertical-align: top;\n",
              "    }\n",
              "\n",
              "    .dataframe thead th {\n",
              "        text-align: right;\n",
              "    }\n",
              "</style>\n",
              "<table border=\"1\" class=\"dataframe\">\n",
              "  <thead>\n",
              "    <tr style=\"text-align: right;\">\n",
              "      <th></th>\n",
              "      <th>age</th>\n",
              "      <th>anaemia</th>\n",
              "      <th>creatinine_phosphokinase</th>\n",
              "      <th>diabetes</th>\n",
              "      <th>ejection_fraction</th>\n",
              "      <th>high_blood_pressure</th>\n",
              "      <th>platelets</th>\n",
              "      <th>serum_creatinine</th>\n",
              "      <th>serum_sodium</th>\n",
              "      <th>sex</th>\n",
              "      <th>smoking</th>\n",
              "      <th>time</th>\n",
              "      <th>DEATH_EVENT</th>\n",
              "    </tr>\n",
              "  </thead>\n",
              "  <tbody>\n",
              "    <tr>\n",
              "      <th>0</th>\n",
              "      <td>75.0</td>\n",
              "      <td>0</td>\n",
              "      <td>582</td>\n",
              "      <td>0</td>\n",
              "      <td>20</td>\n",
              "      <td>1</td>\n",
              "      <td>265000.00</td>\n",
              "      <td>1.9</td>\n",
              "      <td>130</td>\n",
              "      <td>1</td>\n",
              "      <td>0</td>\n",
              "      <td>4</td>\n",
              "      <td>1</td>\n",
              "    </tr>\n",
              "    <tr>\n",
              "      <th>1</th>\n",
              "      <td>55.0</td>\n",
              "      <td>0</td>\n",
              "      <td>7861</td>\n",
              "      <td>0</td>\n",
              "      <td>38</td>\n",
              "      <td>0</td>\n",
              "      <td>263358.03</td>\n",
              "      <td>1.1</td>\n",
              "      <td>136</td>\n",
              "      <td>1</td>\n",
              "      <td>0</td>\n",
              "      <td>6</td>\n",
              "      <td>1</td>\n",
              "    </tr>\n",
              "    <tr>\n",
              "      <th>2</th>\n",
              "      <td>65.0</td>\n",
              "      <td>0</td>\n",
              "      <td>146</td>\n",
              "      <td>0</td>\n",
              "      <td>20</td>\n",
              "      <td>0</td>\n",
              "      <td>162000.00</td>\n",
              "      <td>1.3</td>\n",
              "      <td>129</td>\n",
              "      <td>1</td>\n",
              "      <td>1</td>\n",
              "      <td>7</td>\n",
              "      <td>1</td>\n",
              "    </tr>\n",
              "    <tr>\n",
              "      <th>3</th>\n",
              "      <td>50.0</td>\n",
              "      <td>1</td>\n",
              "      <td>111</td>\n",
              "      <td>0</td>\n",
              "      <td>20</td>\n",
              "      <td>0</td>\n",
              "      <td>210000.00</td>\n",
              "      <td>1.9</td>\n",
              "      <td>137</td>\n",
              "      <td>1</td>\n",
              "      <td>0</td>\n",
              "      <td>7</td>\n",
              "      <td>1</td>\n",
              "    </tr>\n",
              "    <tr>\n",
              "      <th>4</th>\n",
              "      <td>65.0</td>\n",
              "      <td>1</td>\n",
              "      <td>160</td>\n",
              "      <td>1</td>\n",
              "      <td>20</td>\n",
              "      <td>0</td>\n",
              "      <td>327000.00</td>\n",
              "      <td>2.7</td>\n",
              "      <td>116</td>\n",
              "      <td>0</td>\n",
              "      <td>0</td>\n",
              "      <td>8</td>\n",
              "      <td>1</td>\n",
              "    </tr>\n",
              "  </tbody>\n",
              "</table>\n",
              "</div>"
            ],
            "text/plain": [
              "    age  anaemia  creatinine_phosphokinase  ...  smoking  time  DEATH_EVENT\n",
              "0  75.0        0                       582  ...        0     4            1\n",
              "1  55.0        0                      7861  ...        0     6            1\n",
              "2  65.0        0                       146  ...        1     7            1\n",
              "3  50.0        1                       111  ...        0     7            1\n",
              "4  65.0        1                       160  ...        0     8            1\n",
              "\n",
              "[5 rows x 13 columns]"
            ]
          },
          "metadata": {
            "tags": []
          },
          "execution_count": 85
        }
      ]
    },
    {
      "cell_type": "markdown",
      "metadata": {
        "id": "GA28idF4SyBk",
        "colab_type": "text"
      },
      "source": [
        "Por não exister dados faltando, não foi feito nenhum tratamento."
      ]
    },
    {
      "cell_type": "code",
      "metadata": {
        "id": "1Xre5kpyS9KK",
        "colab_type": "code",
        "colab": {
          "base_uri": "https://localhost:8080/",
          "height": 51
        },
        "outputId": "4aeb0185-9eb1-4170-fe0b-f9bf7deac6cc"
      },
      "source": [
        "#Verificando quantidades de òbitos e vivos na coleta\n",
        "\n",
        "print('Vivo:',data[data['DEATH_EVENT']==0].shape[0])\n",
        "print('Óbito:',data[data['DEATH_EVENT']==1].shape[0])"
      ],
      "execution_count": null,
      "outputs": [
        {
          "output_type": "stream",
          "text": [
            "Vivo: 203\n",
            "Óbito: 96\n"
          ],
          "name": "stdout"
        }
      ]
    },
    {
      "cell_type": "code",
      "metadata": {
        "id": "MVJucnZPWOeE",
        "colab_type": "code",
        "colab": {
          "base_uri": "https://localhost:8080/",
          "height": 281
        },
        "outputId": "79c6f92a-332a-4d61-fc2c-fd35a33b140a"
      },
      "source": [
        "#Verificando ocorrências atributo creatinina fosfoquinase\n",
        "plt.hist(data['creatinine_phosphokinase'],20)\n",
        "plt.ylabel('Quantidade')\n",
        "plt.title('Ocorrências do Atributo creatinina fosfoquinase')\n",
        "plt.grid(True)\n",
        "plt.show()"
      ],
      "execution_count": null,
      "outputs": [
        {
          "output_type": "display_data",
          "data": {
            "image/png": "[encoded data removed]",
            "text/plain": [
              "<Figure size 432x288 with 1 Axes>"
            ]
          },
          "metadata": {
            "tags": [],
            "needs_background": "light"
          }
        }
      ]
    },
    {
      "cell_type": "markdown",
      "metadata": {
        "id": "M2uULfkDYD_0",
        "colab_type": "text"
      },
      "source": [
        "Valores abaixo de 1000 são os mais comuns e são vistos poucos dados acima de 2000, fazendo uma pesquisa rápida é entendido para a medicina que valores altos de creatina se dá em casos de infarto."
      ]
    },
    {
      "cell_type": "code",
      "metadata": {
        "id": "CslYagqcaaWS",
        "colab_type": "code",
        "colab": {
          "base_uri": "https://localhost:8080/",
          "height": 823
        },
        "outputId": "599670de-9b1f-41cd-8220-0532eb09e5b0"
      },
      "source": [
        "#Verificando ocorrências atributo plaquetas\n",
        "\n",
        "#Box plot \n",
        "alive = data[data['DEATH_EVENT']==0].drop(columns=['DEATH_EVENT']).reset_index(drop=True)\n",
        "plt.boxplot(alive.platelets)\n",
        "plt.title('Box plot do atributo plaquetas nos pacientes vivos')\n",
        "plt.show()\n",
        "\n",
        "death = data[data['DEATH_EVENT']==1].drop(columns=['DEATH_EVENT']).reset_index(drop=True)\n",
        "plt.boxplot(death.platelets)\n",
        "plt.title('Box plot do atributo plaquetas nos pacientes mortos')\n",
        "plt.show()\n",
        "\n",
        "sns.distplot(alive.platelets , hist=False, rug=False, label='Alive')\n",
        "sns.distplot(death.platelets , hist=False, rug=False, label='Death')\n",
        "plt.ylabel('Probabilidades')\n",
        "plt.title('Número de plaquetas')\n",
        "plt.show()"
      ],
      "execution_count": null,
      "outputs": [
        {
          "output_type": "display_data",
          "data": {
            "image/png": "[encoded data removed]",
            "text/plain": [
              "<Figure size 432x288 with 1 Axes>"
            ]
          },
          "metadata": {
            "tags": [],
            "needs_background": "light"
          }
        },
        {
          "output_type": "display_data",
          "data": {
            "image/png": "[encoded data removed]",
            "text/plain": [
              "<Figure size 432x288 with 1 Axes>"
            ]
          },
          "metadata": {
            "tags": [],
            "needs_background": "light"
          }
        },
        {
          "output_type": "display_data",
          "data": {
            "image/png": "[encoded data removed]",
            "text/plain": [
              "<Figure size 432x288 with 1 Axes>"
            ]
          },
          "metadata": {
            "tags": [],
            "needs_background": "light"
          }
        }
      ]
    },
    {
      "cell_type": "markdown",
      "metadata": {
        "id": "eimq1JqWgcVJ",
        "colab_type": "text"
      },
      "source": [
        "Onde nos 3 gráficos mostram uma diferença minima, onde os casos de pessoas vivas ocorreu valores mais incomuns(fora do comum/outlier), mas nos dois casos a médiana se manteve proxima de 200000."
      ]
    },
    {
      "cell_type": "code",
      "metadata": {
        "id": "CqkqvCpZkIVI",
        "colab_type": "code",
        "colab": {
          "base_uri": "https://localhost:8080/",
          "height": 312
        },
        "outputId": "ed7e9ecf-4b61-41bf-a2aa-146b2a0006c3"
      },
      "source": [
        "#\n",
        "plt.scatter(data.platelets,data.serum_sodium)\n",
        "plt.xlabel('Plaquetas')\n",
        "plt.ylabel('sódio sérico')\n",
        "plt.title('Correlação entre Plaquetas e sódio sérico')\n",
        "plt.show()\n",
        "\n",
        "# calculando o coeficiente de correlação\n",
        "corr = data['platelets'].corr(data['serum_sodium'])\n",
        "print(\"Coeficiente de correlação:\", corr)\n"
      ],
      "execution_count": null,
      "outputs": [
        {
          "output_type": "display_data",
          "data": {
            "image/png": "[encoded data removed]",
            "text/plain": [
              "<Figure size 432x288 with 1 Axes>"
            ]
          },
          "metadata": {
            "tags": [],
            "needs_background": "light"
          }
        },
        {
          "output_type": "stream",
          "text": [
            "Coeficiente de correlação: 0.06212461923840719\n"
          ],
          "name": "stdout"
        }
      ]
    },
    {
      "cell_type": "markdown",
      "metadata": {
        "id": "g45B13cCrhNn",
        "colab_type": "text"
      },
      "source": [
        "São dados com uma correlação baixa, assim sendo datas provavelmente relevantes para serem usados juntos."
      ]
    },
    {
      "cell_type": "code",
      "metadata": {
        "id": "AuoG6oh9sYv0",
        "colab_type": "code",
        "colab": {
          "base_uri": "https://localhost:8080/",
          "height": 312
        },
        "outputId": "c3e465e6-d5b4-42f3-af03-1f3dea026dbe"
      },
      "source": [
        "plt.scatter(data.smoking,data.platelets)\n",
        "plt.xlabel('Plaquetas')\n",
        "plt.ylabel('sódio sérico')\n",
        "plt.title('Correlação entre Plaquetas e sódio sérico')\n",
        "plt.show()\n",
        "\n",
        "# calculando o coeficiente de correlação\n",
        "corr = data['smoking'].corr(data['platelets'])\n",
        "print(\"Coeficiente de correlação:\", corr)"
      ],
      "execution_count": null,
      "outputs": [
        {
          "output_type": "display_data",
          "data": {
            "image/png": "[encoded data removed]",
            "text/plain": [
              "<Figure size 432x288 with 1 Axes>"
            ]
          },
          "metadata": {
            "tags": [],
            "needs_background": "light"
          }
        },
        {
          "output_type": "stream",
          "text": [
            "Coeficiente de correlação: 0.028234447714347657\n"
          ],
          "name": "stdout"
        }
      ]
    }
  ]
}